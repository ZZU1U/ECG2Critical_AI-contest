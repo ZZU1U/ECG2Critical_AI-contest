{
 "cells": [
  {
   "cell_type": "code",
   "execution_count": null,
   "id": "initial_id",
   "metadata": {
    "collapsed": true
   },
   "outputs": [],
   "source": [
    "import re, nltk, pandas as pd\n",
    "from nltk.corpus import stopwords\n",
    "nltk.download(\"stopwords\") # поддерживает удаление стоп-слов\n",
    "nltk.download('punkt') # делит текст на список предложений\n",
    "nltk.download('wordnet') # проводит лемматизацию\n",
    "\"\"\"Отдельно рассмотрим столбец report, т.к.его нужно по особому обрабатывать\"\"\"\n",
    "\n",
    "meta = pd.DataFrame()\n",
    "\n",
    "reports = meta['report']\n",
    "\n",
    "\"\"\"Создаем объект lemmatizerа\"\"\"\n",
    "\n",
    "lemmatize = nltk.WordNetLemmatizer()\n",
    "\n",
    "new_text = []\n",
    "\n",
    "for i in reports:\n",
    "    #удаляем неалфавитные символы\n",
    "    text = re.sub(\"[^a-zA-Z]\", \" \", i)\n",
    "\n",
    "    # токенизируем слова\n",
    "    text = nltk.word_tokenize(text, language=\"german\")\n",
    "\n",
    "    # лемматирзируем слова\n",
    "    text = [lemmatize.lemmatize(word) for word in i]\n",
    "\n",
    "    # соединяем слова\n",
    "    text = \"\".join(text)\n",
    "    new_text.append(text)\n",
    "\n",
    "\"\"\"Создаем объект vectorizerа\"\"\"\n",
    "\n",
    "tfidf_vectorizer = sk.feature_extraction.text.TfidfVectorizer(stop_words=stopwords.words('german'))\n",
    "\"\"\"Преобразуем текст\"\"\"\n",
    "values = tfidf_vectorizer.fit_transform(new_text)\n",
    "reports_df = pd.DataFrame(data=values.toarray(), columns=[f'report_{i}' for i in range(values.shape[1])])\n",
    "\"\"\"Совмещение таблиц (конкатенация)\"\"\"\n",
    "meta = pd.concat([meta, reports_df], axis=1)\n",
    "meta.drop(columns=['report'], inplace=True)"
   ]
  }
 ],
 "metadata": {
  "kernelspec": {
   "display_name": "Python 3",
   "language": "python",
   "name": "python3"
  },
  "language_info": {
   "codemirror_mode": {
    "name": "ipython",
    "version": 2
   },
   "file_extension": ".py",
   "mimetype": "text/x-python",
   "name": "python",
   "nbconvert_exporter": "python",
   "pygments_lexer": "ipython2",
   "version": "2.7.6"
  }
 },
 "nbformat": 4,
 "nbformat_minor": 5
}
