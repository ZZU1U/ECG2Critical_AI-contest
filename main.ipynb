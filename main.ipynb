{
 "cells": [
  {
   "cell_type": "markdown",
   "metadata": {},
   "source": [
    "# Решение задачи \"Анализ ЭКГ-сигналов для диагностики сердечных патологий\" для конкурса AI challenge"
   ]
  },
  {
   "cell_type": "markdown",
   "metadata": {},
   "source": [
    "Оглавление\n",
    "- Исследование области задачи\n",
    "- Обработка и анализ данных\n",
    "- Тестирование различных моделей"
   ]
  },
  {
   "cell_type": "markdown",
   "metadata": {},
   "source": [
    "## Исследование области задачи\n",
    "- SCP-ECG - http://masters.donntu.ru/2008/kita/golovach/library/4_ref/pub.html\n",
    "- стадии инфаркта"
   ]
  },
  {
   "cell_type": "markdown",
   "metadata": {},
   "source": [
    "## Обработка и анализ данных"
   ]
  },
  {
   "cell_type": "markdown",
   "metadata": {},
   "source": [
    "Используемые модули"
   ]
  },
  {
   "cell_type": "code",
   "execution_count": null,
   "metadata": {},
   "outputs": [],
   "source": [
    "# Для данных\n",
    "import pandas as pd\n",
    "import numpy as np\n",
    "\n",
    "# Для плюшек\n",
    "import sklearn as sk\n",
    "\n",
    "# Для красоты\n",
    "import seaborn as sns\n",
    "from pprint import pprint"
   ]
  },
  {
   "cell_type": "markdown",
   "metadata": {},
   "source": [
    "Полезные функции"
   ]
  },
  {
   "cell_type": "code",
   "execution_count": null,
   "metadata": {},
   "outputs": [],
   "source": [
    "def get_hr(folder: str, hr_num: str):\n",
    "    return np.load(f'data/{folder}/{hr_num}.npy')"
   ]
  },
  {
   "cell_type": "markdown",
   "metadata": {},
   "source": [
    "Пример использования"
   ]
  },
  {
   "cell_type": "code",
   "execution_count": null,
   "metadata": {},
   "outputs": [],
   "source": [
    "a = get_hr(folder='train', hr_num='15857_hr')\n",
    "sns.lineplot(data=a.flatten()[:1500])"
   ]
  },
  {
   "cell_type": "markdown",
   "metadata": {},
   "source": [
    "Загрузка данных"
   ]
  },
  {
   "cell_type": "code",
   "execution_count": null,
   "metadata": {},
   "outputs": [],
   "source": [
    "meta = pd.read_csv('data/train/train_meta.csv')\n",
    "diagnosis = pd.read_csv('data/train/train_gts.csv')"
   ]
  },
  {
   "cell_type": "code",
   "execution_count": null,
   "metadata": {},
   "outputs": [],
   "source": [
    "meta.head(3)"
   ]
  },
  {
   "cell_type": "code",
   "execution_count": null,
   "metadata": {},
   "outputs": [],
   "source": [
    "diagnosis.head(3)"
   ]
  },
  {
   "cell_type": "markdown",
   "metadata": {},
   "source": [
    "Просмотрим инофрмацию о нашем датасете </br>\n",
    "https://physionet.org/content/ptb-xl/1.0.3/ - еще здесь нада"
   ]
  },
  {
   "cell_type": "code",
   "execution_count": null,
   "metadata": {},
   "outputs": [],
   "source": [
    "meta.info()"
   ]
  },
  {
   "cell_type": "markdown",
   "metadata": {},
   "source": [
    "Удалим те данные, которые не несут важной для нас информации"
   ]
  },
  {
   "cell_type": "code",
   "execution_count": null,
   "metadata": {},
   "outputs": [],
   "source": [
    "useless_columns = ['ecg_id', 'patient_id', 'nurse', 'site', 'device', 'recording_date', 'filename_lr', 'filename_hr']\n",
    "meta.drop(columns=useless_columns, inplace=True)"
   ]
  },
  {
   "cell_type": "markdown",
   "metadata": {},
   "source": [
    "Создадим список тех столбцов, которые возможно не несут важной информации (мы проверим это при обучении)"
   ]
  },
  {
   "cell_type": "code",
   "execution_count": null,
   "metadata": {},
   "outputs": [],
   "source": [
    "strange_columns = ['age', 'sex', 'group']"
   ]
  },
  {
   "cell_type": "markdown",
   "metadata": {},
   "source": [
    "БОНУС интересный пациент"
   ]
  },
  {
   "cell_type": "code",
   "execution_count": null,
   "metadata": {},
   "outputs": [],
   "source": [
    "print(meta.iloc[1514]) # интересный пациент\n",
    "print()\n",
    "print(diagnosis.loc[diagnosis['record_name'] == '15857_hr']) # без миокарда\n",
    "# Скорее всего его придется убрать, т.к. он почти пустой, хотя желательно это оптимизировать и убрать большинство таких\n",
    "hrs = get_hr('train', '15857_hr')"
   ]
  },
  {
   "cell_type": "markdown",
   "metadata": {},
   "source": [
    "Рассмотрим те столбцы, в которых есть много пропусков"
   ]
  },
  {
   "cell_type": "code",
   "execution_count": null,
   "metadata": {},
   "outputs": [],
   "source": [
    "for column in meta.columns:\n",
    "    print(f'Column name: {column} {round(meta[column].notna().sum() / len(meta) * 100, 2)}%')\n",
    "    print(meta[column].value_counts() if len(meta[column].unique()) < 14 else f'so much unique values\\n{meta[column].describe()}')\n",
    "    print()"
   ]
  },
  {
   "cell_type": "code",
   "execution_count": null,
   "metadata": {},
   "outputs": [],
   "source": [
    "\"\"\"\n",
    "TODO\n",
    "Хотелось бы поподробнее о таких столбцах, как\n",
    "static_noise, burst_noise, extra_beats, start_fold, validated_by\n",
    "\"\"\""
   ]
  },
  {
   "cell_type": "markdown",
   "metadata": {},
   "source": [
    "На основе этих данных выделим список столбцов с множество недостающих значений"
   ]
  },
  {
   "cell_type": "code",
   "execution_count": null,
   "metadata": {},
   "outputs": [],
   "source": [
    "empty_columns = ['height', 'weight', 'heart_axis']\n",
    "meta.drop(columns=empty_columns, inplace=True)"
   ]
  },
  {
   "cell_type": "markdown",
   "metadata": {},
   "source": [
    "Удалим те строки, в которых electrodes_problem"
   ]
  },
  {
   "cell_type": "code",
   "execution_count": null,
   "metadata": {},
   "outputs": [],
   "source": [
    "meta.drop(meta[meta['electrodes_problems'].notna()].index, inplace=True)\n",
    "meta.drop(columns=['electrodes_problems'], inplace=True)\n",
    "meta.drop(1514, inplace=True) # Хех пока"
   ]
  },
  {
   "cell_type": "code",
   "execution_count": null,
   "metadata": {},
   "outputs": [],
   "source": [
    "meta = meta.reset_index(drop=True)"
   ]
  },
  {
   "cell_type": "code",
   "execution_count": null,
   "metadata": {},
   "outputs": [],
   "source": [
    "meta.info()"
   ]
  },
  {
   "cell_type": "code",
   "execution_count": null,
   "metadata": {},
   "outputs": [],
   "source": [
    "\"\"\"\n",
    "TODO удалить бесполезные записи\n",
    "Сначала их надо найте, это такие записи, где либо много пропущенных столбцов\n",
    "Либо те, что с проблемным экг\n",
    "\"\"\""
   ]
  },
  {
   "cell_type": "markdown",
   "metadata": {},
   "source": [
    "Отдельно рассмотрим столбец report, т.к. его нужно по особому обрабатывать"
   ]
  },
  {
   "cell_type": "code",
   "execution_count": null,
   "metadata": {},
   "outputs": [],
   "source": [
    "reports = [report.strip('. ').split('. ') for report in meta['report'].unique()]"
   ]
  },
  {
   "cell_type": "code",
   "execution_count": null,
   "metadata": {},
   "outputs": [],
   "source": [
    "\"\"\"\n",
    "TODO Непонятно что делать с репортами\n",
    "Возможно их стоит просто отбросить,\n",
    "Возможно их стоит по умному обрабатывать,\n",
    "Но у них еще есть неточности по типу поставил/не поставил точку в конце - это мешает их корректно обрабатывать\n",
    "\"\"\"\n",
    "subreports = set()\n",
    "\n",
    "for report in reports:\n",
    "    subreports = subreports.union(set([i.strip(',. ') for i in report]))\n",
    "\n",
    "print(len(subreports))\n",
    "pprint(subreports)"
   ]
  },
  {
   "cell_type": "markdown",
   "metadata": {},
   "source": [
    "Заменим строки в названиях, так как они малину портят"
   ]
  },
  {
   "cell_type": "code",
   "execution_count": null,
   "metadata": {},
   "outputs": [],
   "source": [
    "str_columns = ['infarction_stadium1', 'infarction_stadium2', 'burst_noise', 'pacemaker']\n",
    "\n",
    "meta = pd.get_dummies(meta, columns=str_columns)"
   ]
  },
  {
   "cell_type": "code",
   "execution_count": null,
   "metadata": {},
   "outputs": [],
   "source": [
    "\"\"\"\n",
    "TODO у нас еще остались столбцы baseline_drift static_noise extra_beats, scp_codecs\n",
    "\"\"\"\n",
    "meta.info()"
   ]
  },
  {
   "cell_type": "markdown",
   "metadata": {},
   "source": [
    "..."
   ]
  },
  {
   "cell_type": "markdown",
   "metadata": {},
   "source": [
    "## Тестирование различных моделей"
   ]
  },
  {
   "cell_type": "markdown",
   "metadata": {},
   "source": [
    "Используемые модули (не точно)"
   ]
  },
  {
   "cell_type": "code",
   "execution_count": null,
   "metadata": {},
   "outputs": [],
   "source": [
    "# Нейронки (какие-то уберем, разобраться сначала, какие для этого подходят)\n",
    "from sklearn.neighbors import KNeighborsRegressor\n",
    "from sklearn.linear_model import LogisticRegression\n",
    "from sklearn.ensemble import RandomForestRegressor\n",
    "from sklearn.ensemble import GradientBoostingClassifier\n",
    "from sklearn.svm import SVR\n",
    "\n",
    "# Посложнее, что успеем сделать\n",
    "import torch #1\n",
    "import keras #2\n",
    "\n",
    "# Метрики\n",
    "from sklearn.metrics import accuracy_score\n",
    "from sklearn.metrics import roc_auc_score\n",
    "from sklearn.metrics import precision_score\n",
    "from sklearn.metrics import recall_score"
   ]
  }
 ],
 "metadata": {
  "kernelspec": {
   "display_name": "Python 3",
   "language": "python",
   "name": "python3"
  },
  "language_info": {
   "codemirror_mode": {
    "name": "ipython",
    "version": 3
   },
   "file_extension": ".py",
   "mimetype": "text/x-python",
   "name": "python",
   "nbconvert_exporter": "python",
   "pygments_lexer": "ipython3",
   "version": "3.11.4"
  },
  "orig_nbformat": 4
 },
 "nbformat": 4,
 "nbformat_minor": 2
}
